{
 "cells": [
  {
   "cell_type": "code",
   "execution_count": 1,
   "id": "61463883",
   "metadata": {},
   "outputs": [
    {
     "ename": "SyntaxError",
     "evalue": "invalid syntax (3368739136.py, line 3)",
     "output_type": "error",
     "traceback": [
      "\u001b[0;36m  Cell \u001b[0;32mIn[1], line 3\u001b[0;36m\u001b[0m\n\u001b[0;31m    Este notebook permite simular el comportamiento de los Activos Ponderados por Riesgo (RWA) bajo los enfoques SEC-IRBA y SEC-SA del marco CRR/Basilea III. Los parámetros pueden modificarse de forma interactiva para evaluar sensibilidad.\u001b[0m\n\u001b[0m         ^\u001b[0m\n\u001b[0;31mSyntaxError\u001b[0m\u001b[0;31m:\u001b[0m invalid syntax\n"
     ]
    }
   ],
   "source": [
    "# Simulador Interactivo de Titulizaciones – SEC-IRBA y SEC-SA\n",
    "\n",
    "Este notebook permite simular el comportamiento de los Activos Ponderados por Riesgo (RWA) bajo los enfoques SEC-IRBA y SEC-SA del marco CRR/Basilea III. Los parámetros pueden modificarse de forma interactiva para evaluar sensibilidad.\n",
    "\n",
    "## Variables\n",
    "\n",
    "### Riesgo de Crédito\n",
    "- **PD**: Probabilidad de incumplimiento.\n",
    "- **LGD**: Pérdida en caso de incumplimiento.\n",
    "- **R**: Correlación regulatoria según exposición.\n",
    "\n",
    "### Titulización\n",
    "- **A**: Punto de attachment del tramo.\n",
    "- **D**: Punto de detachment del tramo.\n",
    "- **M**: Madurez residual (años).\n",
    "- **STS**: Si la titulización cumple con criterios de simplicidad y transparencia.\n",
    "\n",
    "### Métodos\n",
    "- **SEC-IRBA**: Usa modelos internos (IRB).\n",
    "- **SEC-SA**: Usa ponderaciones estándar.\n"
   ]
  },
  {
   "cell_type": "code",
   "execution_count": 2,
   "id": "62fb17b7",
   "metadata": {},
   "outputs": [],
   "source": [
    "import numpy as np\n",
    "import matplotlib.pyplot as plt\n",
    "from scipy.stats import norm\n",
    "import ipywidgets as widgets\n",
    "from IPython.display import display\n",
    "\n",
    "# Función K_IRB\n",
    "def calculate_K_irb(PD, LGD, exposure_type='corporate'):\n",
    "    if exposure_type == 'corporate':\n",
    "        R = 0.12 * (1 - np.exp(-50 * PD)) / (1 - np.exp(-50)) + 0.24 * (1 - ((1 - np.exp(-50 * PD)) / (1 - np.exp(-50))))\n",
    "    elif exposure_type == 'retail':\n",
    "        R = 0.03\n",
    "    else:\n",
    "        raise ValueError(\"Tipo de exposición no soportado.\")\n",
    "    numerator = norm.ppf(PD) + np.sqrt(R) * norm.ppf(0.999)\n",
    "    denominator = np.sqrt(1 - R)\n",
    "    capital_requirement = LGD * norm.cdf(numerator / denominator) - PD * LGD\n",
    "    return capital_requirement\n",
    "\n",
    "# SEC-IRBA\n",
    "def compute_sec_irba(K_irb, A, D, M):\n",
    "    W = D - A\n",
    "    capital_req = K_irb * W * M\n",
    "    return 12.5 * capital_req\n",
    "\n",
    "# SEC-SA simplificado\n",
    "def calculate_K_sa(weights, risk_weights):\n",
    "    return sum(w * rw for w, rw in zip(weights, risk_weights)) / 100\n",
    "\n",
    "def compute_sec_sa(K_sa, A, D, M, sts=False):\n",
    "    p = 0.5 if sts else 1.0\n",
    "    W = D - A\n",
    "    capital_req = p * K_sa * W * M\n",
    "    return 12.5 * capital_req\n"
   ]
  },
  {
   "cell_type": "code",
   "execution_count": null,
   "id": "66c75c01",
   "metadata": {},
   "outputs": [
    {
     "data": {
      "application/vnd.jupyter.widget-view+json": {
       "model_id": "7d2c4b6ba84a4927b2842a1db589a779",
       "version_major": 2,
       "version_minor": 0
      },
      "text/plain": [
       "VBox(children=(Dropdown(description='Método:', options=('SEC-IRBA', 'SEC-SA'), value='SEC-IRBA'), Checkbox(val…"
      ]
     },
     "metadata": {},
     "output_type": "display_data"
    },
    {
     "data": {
      "application/vnd.jupyter.widget-view+json": {
       "model_id": "b8c5cfbbcfd4422ca0033c757ccbe81a",
       "version_major": 2,
       "version_minor": 0
      },
      "text/plain": [
       "Output()"
      ]
     },
     "metadata": {},
     "output_type": "display_data"
    }
   ],
   "source": [
    "pd_slider = widgets.FloatSlider(value=0.05, min=0.001, max=0.2, step=0.001, description='PD:')\n",
    "lgd_slider = widgets.FloatSlider(value=0.45, min=0.0, max=1.0, step=0.01, description='LGD:')\n",
    "method_selector = widgets.Dropdown(options=['SEC-IRBA', 'SEC-SA'], value='SEC-IRBA', description='Método:')\n",
    "sts_checkbox = widgets.Checkbox(value=False, description='STS')\n",
    "tranche_A = widgets.FloatSlider(value=0.00, min=0.00, max=0.99, step=0.01, description='A:')\n",
    "tranche_B = widgets.FloatSlider(value=0.05, min=0.01, max=1.00, step=0.01, description='B:')\n",
    "tranche_C = widgets.FloatSlider(value=0.20, min=0.01, max=1.00, step=0.01, description='C:')\n",
    "\n",
    "def update_plot(PD, LGD, method, sts, A, B, C):\n",
    "    pd_values = np.linspace(0.001, 0.20, 100)\n",
    "    M_values = [1, 3, 5]\n",
    "    rwa_results = {M: [] for M in M_values}\n",
    "    tranche_bounds = {'A': A, 'B': B, 'C': C}\n",
    "\n",
    "    for pd in pd_values:\n",
    "        if method == 'SEC-IRBA':\n",
    "            K_ir = calculate_K_irb(pd, LGD)\n",
    "        else:\n",
    "            K_ir = calculate_K_sa([0.33, 0.33, 0.34], [75, 100, 150])\n",
    "\n",
    "        for M in M_values:\n",
    "            rwa_A = compute_sec_irba(K_ir, 0, tranche_bounds['A'], M) if method == 'SEC-IRBA' else compute_sec_sa(K_ir, 0, tranche_bounds['A'], M, sts)\n",
    "            rwa_B = compute_sec_irba(K_ir, tranche_bounds['A'], tranche_bounds['B'], M) if method == 'SEC-IRBA' else compute_sec_sa(K_ir, tranche_bounds['A'], tranche_bounds['B'], M, sts)\n",
    "            rwa_C = compute_sec_irba(K_ir, tranche_bounds['B'], tranche_bounds['C'], M) if method == 'SEC-IRBA' else compute_sec_sa(K_ir, tranche_bounds['B'], tranche_bounds['C'], M, sts)\n",
    "            total_rwa = rwa_A + rwa_B + rwa_C\n",
    "            rwa_results[M].append(total_rwa)\n",
    "\n",
    "    plt.figure(figsize=(10, 6))\n",
    "    for M in M_values:\n",
    "        plt.plot(pd_values, rwa_results[M], label=f'M = {M} años')\n",
    "    plt.xlabel('PD')\n",
    "    plt.ylabel('RWA total (%)')\n",
    "    plt.title(f'Titulización – Método {method}')\n",
    "    plt.grid(True)\n",
    "    plt.legend()\n",
    "    plt.show()\n",
    "\n",
    "ui = widgets.VBox([\n",
    "    method_selector, sts_checkbox,\n",
    "    widgets.HBox([pd_slider, lgd_slider]),\n",
    "    widgets.HBox([tranche_A, tranche_B, tranche_C])\n",
    "])\n",
    "out = widgets.interactive_output(update_plot, {\n",
    "    'PD': pd_slider,\n",
    "    'LGD': lgd_slider,\n",
    "    'method': method_selector,\n",
    "    'sts': sts_checkbox,\n",
    "    'A': tranche_A,\n",
    "    'B': tranche_B,\n",
    "    'C': tranche_C\n",
    "})\n",
    "display(ui, out)\n"
   ]
  },
  {
   "cell_type": "code",
   "execution_count": null,
   "id": "f9e8be3a",
   "metadata": {},
   "outputs": [],
   "source": []
  }
 ],
 "metadata": {
  "kernelspec": {
   "display_name": "tituliza_env",
   "language": "python",
   "name": "python3"
  },
  "language_info": {
   "codemirror_mode": {
    "name": "ipython",
    "version": 3
   },
   "file_extension": ".py",
   "mimetype": "text/x-python",
   "name": "python",
   "nbconvert_exporter": "python",
   "pygments_lexer": "ipython3",
   "version": "3.10.16"
  }
 },
 "nbformat": 4,
 "nbformat_minor": 5
}
